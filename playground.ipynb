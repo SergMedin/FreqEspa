{
 "cells": [
  {
   "cell_type": "code",
   "execution_count": 5,
   "metadata": {},
   "outputs": [
    {
     "ename": "TypeError",
     "evalue": "'ChatCompletionMessage' object is not subscriptable",
     "output_type": "error",
     "traceback": [
      "\u001b[0;31m---------------------------------------------------------------------------\u001b[0m",
      "\u001b[0;31mTypeError\u001b[0m                                 Traceback (most recent call last)",
      "Cell \u001b[0;32mIn[5], line 21\u001b[0m\n\u001b[1;32m      9\u001b[0m client \u001b[38;5;241m=\u001b[39m OpenAI(api_key\u001b[38;5;241m=\u001b[39mOPENAI_API_KEY)\n\u001b[1;32m     11\u001b[0m completion \u001b[38;5;241m=\u001b[39m client\u001b[38;5;241m.\u001b[39mchat\u001b[38;5;241m.\u001b[39mcompletions\u001b[38;5;241m.\u001b[39mcreate(\n\u001b[1;32m     12\u001b[0m   \u001b[38;5;66;03m# model=\"gpt-3.5-turbo\",\u001b[39;00m\n\u001b[1;32m     13\u001b[0m   \u001b[38;5;66;03m# model=\"gpt-4-turbo\",\u001b[39;00m\n\u001b[0;32m   (...)\u001b[0m\n\u001b[1;32m     18\u001b[0m   ]\n\u001b[1;32m     19\u001b[0m )\n\u001b[0;32m---> 21\u001b[0m \u001b[38;5;28mprint\u001b[39m(\u001b[43mcompletion\u001b[49m\u001b[38;5;241;43m.\u001b[39;49m\u001b[43mchoices\u001b[49m\u001b[43m[\u001b[49m\u001b[38;5;241;43m0\u001b[39;49m\u001b[43m]\u001b[49m\u001b[38;5;241;43m.\u001b[39;49m\u001b[43mmessage\u001b[49m\u001b[43m[\u001b[49m\u001b[38;5;124;43m'\u001b[39;49m\u001b[38;5;124;43mcontent\u001b[39;49m\u001b[38;5;124;43m'\u001b[39;49m\u001b[43m]\u001b[49m\u001b[38;5;241m.\u001b[39mstrip())\n",
      "\u001b[0;31mTypeError\u001b[0m: 'ChatCompletionMessage' object is not subscriptable"
     ]
    }
   ],
   "source": [
    "from dotenv import load_dotenv\n",
    "import os\n",
    "from openai import OpenAI\n",
    "\n",
    "\n",
    "load_dotenv()  # Загружает переменные из .env файла в окружение\n",
    "OPENAI_API_KEY = os.getenv('OPENAI_API_KEY')\n",
    "\n",
    "client = OpenAI(api_key=OPENAI_API_KEY)\n",
    "\n",
    "completion = client.chat.completions.create(\n",
    "  # model=\"gpt-3.5-turbo\",\n",
    "  # model=\"gpt-4-turbo\",\n",
    "  model=\"gpt-4o\",\n",
    "  messages=[\n",
    "    {\"role\": \"system\", \"content\": \"You are a poetic assistant, skilled in explaining complex programming concepts with creative flair.\"},\n",
    "    {\"role\": \"user\", \"content\": \"Compose a poem that explains the concept of recursion in programming.\"}\n",
    "  ]\n",
    ")\n",
    "\n",
    "print(completion.choices[0].message['content'].strip())"
   ]
  },
  {
   "cell_type": "code",
   "execution_count": 8,
   "metadata": {},
   "outputs": [
    {
     "data": {
      "text/plain": [
       "\"In the realm where code and logic weave,\\nA siren sings, and patterns breathe,\\nDeep in the forest of the code,\\nRecursion waits, an ancient mode.\\n\\nA function wise, it calls its name,\\nA self-reflective cyclical game,\\nWith inputs, outputs dancing gleam,\\nLike echoes in a mirrored dream.\\n\\nFirst, a base case, firm and true,\\nThe stopping point that guides us through,\\nFor without this gentle tether,\\nWe'd loop in endless chaos, nether.\\n\\nThen comes the heart of all designs,\\nA maze of calls, recursive lines,\\nEach step a smaller, simpler plight,\\nDrawing nearer to the light.\\n\\nImagine climbing stairs afar,\\nEach step a call, both near and far,\\nFirst foot, then next, in perfect stream,\\nTill atop you stand, as in a dream.\\n\\nOr think of Russian dolls in sets,\\nWhere one within another rests,\\nEach shell a copy, yet unique,\\nTill the core you finally seek.\\n\\nCalculating factorial’s might,\\nOr searching trees in patterned flight,\\nRecursion crafts its nested tales,\\nWhere each small call, the code unveils.\\n\\nSo remember, when this concept calls,\\nIt’s not a trap within the halls,\\nBut a method, elegant and neat,\\nWhere problems find their own defeat.\\n\\nIn loops of logic, deep and pure,\\nRecursion’s power stands secure,\\nAn endless dance, a swift ascent,\\nA coder’s friend, both wise and bent.\""
      ]
     },
     "execution_count": 8,
     "metadata": {},
     "output_type": "execute_result"
    }
   ],
   "source": [
    "completion.choices[0].message.content.strip()"
   ]
  },
  {
   "cell_type": "code",
   "execution_count": null,
   "metadata": {},
   "outputs": [],
   "source": []
  }
 ],
 "metadata": {
  "kernelspec": {
   "display_name": "venv",
   "language": "python",
   "name": "python3"
  },
  "language_info": {
   "codemirror_mode": {
    "name": "ipython",
    "version": 3
   },
   "file_extension": ".py",
   "mimetype": "text/x-python",
   "name": "python",
   "nbconvert_exporter": "python",
   "pygments_lexer": "ipython3",
   "version": "3.11.6"
  }
 },
 "nbformat": 4,
 "nbformat_minor": 2
}
